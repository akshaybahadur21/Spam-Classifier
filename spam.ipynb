{
 "cells": [
  {
   "cell_type": "code",
   "execution_count": 43,
   "metadata": {},
   "outputs": [],
   "source": [
    "import os"
   ]
  },
  {
   "cell_type": "code",
   "execution_count": 44,
   "metadata": {},
   "outputs": [],
   "source": [
    "root_dir=\"F:\\projects\\spam\\enron1\""
   ]
  },
  {
   "cell_type": "code",
   "execution_count": 45,
   "metadata": {},
   "outputs": [
    {
     "name": "stdout",
     "output_type": "stream",
     "text": [
      "F:\\projects\\spam\\enron1 ['ham', 'spam'] 1\n",
      "F:\\projects\\spam\\enron1\\ham [] 3672\n",
      "F:\\projects\\spam\\enron1\\spam [] 1500\n"
     ]
    }
   ],
   "source": [
    "\"\"\"\n",
    "Checking the number of files in ham\n",
    "\"\"\"\n",
    "\n",
    "for directories, subdirs, files in os.walk(root_dir):\n",
    "    print (directories, subdirs,len(files))"
   ]
  },
  {
   "cell_type": "code",
   "execution_count": 48,
   "metadata": {},
   "outputs": [
    {
     "name": "stdout",
     "output_type": "stream",
     "text": [
      "F:\\projects\\spam\\enron1\\ham 3672\n",
      "F:\\projects\\spam\\enron1\\spam 1500\n"
     ]
    }
   ],
   "source": [
    "\"\"\"\n",
    "Checking the number of files in spam and ham\n",
    "\"\"\"\n",
    "\n",
    "for directories, subdirs, files in os.walk(root_dir):\n",
    "    if (os.path.split(directories)[1]  == 'ham'):\n",
    "        print(directories, len(files))\n",
    "    \n",
    "    if (os.path.split(directories)[1]  == 'spam'):\n",
    "        print(directories, len(files))"
   ]
  },
  {
   "cell_type": "code",
   "execution_count": 54,
   "metadata": {
    "scrolled": true
   },
   "outputs": [
    {
     "name": "stdout",
     "output_type": "stream",
     "text": [
      "Ham Occurences:  3672\n",
      "Ommitted from Ham:  0\n",
      "Spam Occurences:  1496\n",
      "Ommitted from Spam:  4\n"
     ]
    }
   ],
   "source": [
    "\"\"\"\n",
    "Creating an empty list for ham and spam and appending data from the directory\n",
    "\"\"\"\n",
    "\n",
    "ham_list=[]\n",
    "spam_list=[]\n",
    "count,ham_count=0,0\n",
    "\n",
    "for directories, subdirs, files in os.walk(root_dir):\n",
    "    if (os.path.split(directories)[1]  == 'ham'):\n",
    "        for filename in files:  \n",
    "            try:\n",
    "                with open(os.path.join(directories, filename)) as f:\n",
    "                    data = f.read()\n",
    "                    ham_list.append(data)\n",
    "            except:\n",
    "                ham_count+=1\n",
    "                \n",
    "    if (os.path.split(directories)[1]  == 'spam'):\n",
    "        for filename in files:\n",
    "            try:\n",
    "                with open(os.path.join(directories, filename)) as f:\n",
    "                    data = f.read()\n",
    "                    spam_list.append(data)\n",
    "            except:\n",
    "                count+=1\n",
    "print(\"Ham Occurences: \", len(ham_list))\n",
    "print(\"Ommitted from Ham: \",ham_count)\n",
    "print(\"Spam Occurences: \",len(spam_list))\n",
    "print(\"Ommitted from Spam: \",count)"
   ]
  },
  {
   "cell_type": "code",
   "execution_count": null,
   "metadata": {},
   "outputs": [],
   "source": []
  },
  {
   "cell_type": "code",
   "execution_count": null,
   "metadata": {},
   "outputs": [],
   "source": []
  }
 ],
 "metadata": {
  "kernelspec": {
   "display_name": "Python 3",
   "language": "python",
   "name": "python3"
  },
  "language_info": {
   "codemirror_mode": {
    "name": "ipython",
    "version": 3
   },
   "file_extension": ".py",
   "mimetype": "text/x-python",
   "name": "python",
   "nbconvert_exporter": "python",
   "pygments_lexer": "ipython3",
   "version": "3.6.0"
  }
 },
 "nbformat": 4,
 "nbformat_minor": 1
}
